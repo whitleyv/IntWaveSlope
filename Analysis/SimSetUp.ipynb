{
 "cells": [
  {
   "cell_type": "code",
   "execution_count": 1,
   "id": "e8c90a5a",
   "metadata": {},
   "outputs": [],
   "source": [
    "using GLMakie\n",
    "using LinearAlgebra\n",
    "using Measures"
   ]
  },
  {
   "cell_type": "code",
   "execution_count": 2,
   "id": "0aad8d27",
   "metadata": {},
   "outputs": [
    {
     "data": {
      "text/plain": [
       "curvedslope (generic function with 1 method)"
      ]
     },
     "execution_count": 2,
     "metadata": {},
     "output_type": "execute_result"
    }
   ],
   "source": [
    "yy = 0:4:5500\n",
    "zz = -500:2:0\n",
    "xx = 0:4:152\n",
    "\n",
    "# curved topo parameters\n",
    "gausT_center = 895                                 # gaussian paramereters for curved \"corner\" of slope\n",
    "gausT_width = 180\n",
    "ySlopeSame = 1332.22                           # point where planar and curved corner math up the best\n",
    "\n",
    "# forcing parameters\n",
    "gausW_width = 500/3\n",
    "gausW_center = 4500 \n",
    "\n",
    "Lz = 500\n",
    "Lx = 152\n",
    "Ly = 5500\n",
    "\n",
    "# sponge params\n",
    "Sp_Region_right = 500                               # size of sponge region on RHS\n",
    "Sp_Region_left = 500\n",
    "Sp_Center = 20\n",
    "Sp_Region_z = 50\n",
    "\n",
    "# parameters\n",
    "Ñ = 3.5 * 10^(-3)              # buoyancy frequency\n",
    "f = Ñ/10.7                    # inertial frequency\n",
    "σ = 2.2*f                     # tidal frequency\n",
    "\n",
    "# topography parameters\n",
    "Tanθ = sqrt((σ^2 - f^2)/(Ñ^2-σ^2))        # slope of internal wave energy propogation\n",
    "γᶜ = 1.9                                  # when bulk slope is supercritical\n",
    "Tanα = γᶜ * Tanθ                          # bulk topographic slope\n",
    "m = -π/Lz\n",
    "l = sqrt(((π/Lz)^2 * (f^2 - σ^2)) / (σ^2 - Ñ^2))\n",
    "\n",
    "@inline heaviside(X) = ifelse(X <0, 0.0, 1.0)\n",
    "# exponential gaussian for curved corner\n",
    "@inline expcurve(y, ystar, smo) = -Lz + Lz * exp(-(y-ystar)^2/(2*smo^2))\n",
    "# planar slope line\n",
    "@inline linslope(y) = -Tanα*y\n",
    "# combining the 2 with heaviside split at ySlopeSame\n",
    "@inline curvedslope(y) = linslope(y) + (-linslope(y) + expcurve(y, gausT_center, gausT_width)) * heaviside(y-ySlopeSame)"
   ]
  },
  {
   "cell_type": "code",
   "execution_count": 3,
   "id": "81bcfed9",
   "metadata": {},
   "outputs": [],
   "source": [
    "land = [curvedslope(y) for x in -5:4:155, y in yy];\n",
    "land_cut = [curvedslope(y) for x in -5:4:155, y in 0:4:2000];"
   ]
  },
  {
   "cell_type": "code",
   "execution_count": 317,
   "id": "2cbf6355",
   "metadata": {},
   "outputs": [
    {
     "data": {
      "text/plain": [
       "-492:50:-42"
      ]
     },
     "execution_count": 317,
     "metadata": {},
     "output_type": "execute_result"
    }
   ],
   "source": [
    "Fv_wave(y,z, t) = 0.25 * σ * sin(l * y + m * z - σ * t)\n",
    "\n",
    "gaus(y) = exp( -(y - gausW_center)^2 / (2 * gausW_width^2))\n",
    "\n",
    "gauss_wave = [gaus(y) for y in yy, z in zz];\n",
    "\n",
    "ywave = Fv_wave.(4500, zz, 9530) .* 2 .*1e6 .+ 4500;\n",
    "zwave = zz[5:25:end]"
   ]
  },
  {
   "cell_type": "code",
   "execution_count": 318,
   "id": "bbc017c0",
   "metadata": {},
   "outputs": [
    {
     "data": {
      "text/plain": [
       "c₀2 (generic function with 1 method)"
      ]
     },
     "execution_count": 318,
     "metadata": {},
     "output_type": "execute_result"
    }
   ],
   "source": [
    "dye_height = 20                               # height of initial dye\n",
    "dye_smoothing = 10                            # tanh initial dye smoothing\n",
    "dye_top = 300                                 # tanh initial dye going negative at\n",
    "dye_centz = -250   \n",
    "dye_centy = dye_centz/-Tanα\n",
    "slope_end = Lz/Tanα\n",
    "\n",
    "# along the slope\n",
    "@inline dye(x, y, z, dH, sm, kt) = 0.5*( tanh( (dH-z) / sm ) + tanh(kt - z) )\n",
    "# only dye in the fluid\n",
    "@inline above_slope(y, z) = ifelse(z >= curvedslope(y), 1.0, 0.0)\n",
    "# only as far as the slope goes\n",
    "@inline slope_side(y) = ifelse(y <= slope_end, 1.0, 0.0)\n",
    "\n",
    "# gaussian in center\n",
    "@inline exparg(y, z) = ((y - dye_centy)^2 + (z - dye_centz)^2) / (2*dye_height^2)\n",
    "@inline dye_gauss(y, z) = exp(-1.0 * exparg(y,z))\n",
    "\n",
    "@inline c₀1(y, z) = above_slope(y, z) * dye_gauss(y, z)\n",
    "# tanh IC\n",
    "@inline c₀2(x, y, z) = slope_side(y) * above_slope(y, z) * dye(x, y, z, curvedslope(y)+dye_height, dye_smoothing, dye_top)"
   ]
  },
  {
   "cell_type": "code",
   "execution_count": 319,
   "id": "97b6e905",
   "metadata": {},
   "outputs": [],
   "source": [
    "#tanh_dye = [c₀2(0, y, z) for y in yy, z in zz];\n",
    "#gauss_dye = [c₀1(y, z) for y in yy, z in zz];\n",
    "gaussforce_shape = [gaus(y) for y in yy, z in zz];\n",
    "gaussforce_wave = [gaus(y)*  sin(l * y + m * z - σ * 9530) for y in yy, z in zz];\n",
    "\n",
    "tanh_dye = [c₀2(x, y, z) for x in xx, y in 0:4:2000, z in zz];\n",
    "gauss_dye = [c₀1(y, z) for x in xx, y in 0:4:2000, z in zz];\n",
    "\n",
    "c1 = log10.(clamp.(gauss_dye,7*1e-5,1));\n",
    "c2 = log10.(clamp.(tanh_dye,7*1e-5,1));"
   ]
  },
  {
   "cell_type": "code",
   "execution_count": 320,
   "id": "bf225caf",
   "metadata": {},
   "outputs": [],
   "source": [
    "@inline mask2nd(X) = heaviside(X)* X^2 \n",
    "@inline right_mask(y) = mask2nd((y-Ly+Sp_Region_right)/(Sp_Region_right))\n",
    "right_maskshape = [right_mask(y) for y in yy, z in zz];\n",
    "\n",
    "@inline left_mask(y) = mask2nd((Sp_Region_left-y)/Sp_Region_left)\n",
    "@inline top_mask(z)= 0.5*(tanh((z+Sp_Center)/Sp_Region_z) + 1)\n",
    "@inline corner_mask(y, z) = top_mask(z) * left_mask(y)\n",
    "corner_maskshape = [corner_mask(y,z) for y in yy, z in zz];"
   ]
  },
  {
   "cell_type": "code",
   "execution_count": 417,
   "id": "a8a69cdc",
   "metadata": {},
   "outputs": [
    {
     "data": {
      "text/plain": [
       "GridLayout[1:1, 1:1] with 0 children\n"
      ]
     },
     "execution_count": 417,
     "metadata": {},
     "output_type": "execute_result"
    }
   ],
   "source": [
    "f = Figure(resolution = (1500, 1000),fontsize=26) #left, right, bottom, top\n",
    "ga = f[1, 1] = GridLayout()\n",
    "gb = f[2, 1] = GridLayout()"
   ]
  },
  {
   "cell_type": "code",
   "execution_count": 418,
   "id": "a3d2e068",
   "metadata": {},
   "outputs": [
    {
     "data": {
      "text/plain": [
       "GLMakie.Screen(...)"
      ]
     },
     "execution_count": 418,
     "metadata": {},
     "output_type": "execute_result"
    }
   ],
   "source": [
    "ax1 = Axis3(ga[1, 1] , azimuth = π/8, # rotation of plot\n",
    "            elevation = 0.15, \n",
    "            aspect =(1,3,1), xtickwidth = 0,\n",
    "            xticks = ([0,152], [\"152\", \"0\"]), xticklabelpad = -25, \n",
    "            zticks = ([-500, -250, 0]),\n",
    "            xlabeloffset = 10, ylabeloffset = 20, zlabeloffset = 100,\n",
    "            xlabel=\"x [m]\", ylabel = \"y [m]\", zlabel = \"z [m]\",)\n",
    "limits!((0,152), (0,5500), (-500,0))\n",
    "\n",
    "display(f)"
   ]
  },
  {
   "cell_type": "code",
   "execution_count": 419,
   "id": "91c8e6da",
   "metadata": {},
   "outputs": [
    {
     "name": "stdout",
     "output_type": "stream",
     "text": [
      "Scene (1500px, 1000px):\n",
      "  0 Plots\n",
      "  1 Child Scene:\n",
      "    └ Scene (1500px, 1000px)"
     ]
    }
   ],
   "source": [
    "surface!(ax1, -5:4:155, yy, land, shading = true, color=fill((:black, .7),100,100),)\n",
    "\n",
    "# topography yz cut lower and uppbounds\n",
    "lower = Point3f.(152, yy, -500);\n",
    "upper = Point3f.(152, yy, curvedslope.(yy));\n",
    "band!(ax1, lower, upper, color = (:black, 0.9), shading = true)\n",
    "\n",
    "# arrows for wave propagation\n",
    "# arrows directed at 0 units in the x,z direction and wave strength units in y  \n",
    "xyz_vec = Point3f.(0, (Fv_wave.(4500, zwave, 9530) .* 2 .*1e6), 0)\n",
    "wvalues = Fv_wave.(4500, zwave, 9530).* 2 .*1e6 .+ 4500\n",
    "for x in xx[1:13:end]\n",
    "    # position of tails at x=x, y=4500, z = each depth \n",
    "    xyz_tails = Point3f.(x, Fv_wave.(4500, zwave, 9530) .* 2 .*1e6 .+ 4500, zwave)\n",
    "    arrows!(ax1, xyz_tails, xyz_vec, shading=false,\n",
    "        arrowcolor = wvalues, linecolor = wvalues,\n",
    "        linewidth = 7, arrowsize = Vec3f(10, 20, 80),\n",
    "        align = :center, colormap = :balance)\n",
    "end\n",
    "# annotation\n",
    "text!(Point.(152, 1200, -470), text = \"α\", align = (:right, :center), color = :white, \n",
    "    fontsize = 26, font = :bold)\n",
    "text!(Point.(76, 4200, 70), text = \"Forced Wave\", align = (:left, :center), color = :black, \n",
    "    fontsize = 26, rotation = -π/60)\n",
    "text!(Point.(76, 5400, 70), text = \"Sponge\", align = (:left, :center), color = :black, \n",
    "    fontsize = 26, rotation = -π/60)\n",
    "text!(Point.(76, 750, -5), text = \"Sponge\", align = (:left, :center), color = :black, \n",
    "    fontsize = 26, rotation = -π/60)\n",
    "\n",
    "# sponge regions\n",
    "contourf!(yy, zz, right_maskshape; levels = (0.05:0.05:1), colormap = cgrad(:grayC, alpha=0.7), #:Greys_8, \n",
    "    transformation=(:yz, -5), linewidth = 5, alpha = 0.6)\n",
    "contourf!(yy, zz, corner_maskshape; levels = (0.05:0.05:1), colormap = cgrad(:grayC, alpha=0.7), #:Greys_8, \n",
    "    transformation=(:yz, -5), linewidth = 5)\n",
    "contourf!(yy, zz, gauss_wave; levels = (0.05:0.05:1), colormap = cgrad(:grayC, alpha=0.7), #:Greys_8, \n",
    "    transformation=(:yz, 0), linewidth = 3)\n",
    "show(f)"
   ]
  },
  {
   "cell_type": "code",
   "execution_count": 1,
   "id": "1129b3ce",
   "metadata": {},
   "outputs": [
    {
     "ename": "LoadError",
     "evalue": "UndefVarError: gb not defined",
     "output_type": "error",
     "traceback": [
      "UndefVarError: gb not defined",
      "",
      "Stacktrace:",
      " [1] top-level scope",
      "   @ In[1]:1"
     ]
    }
   ],
   "source": [
    "ax2 = Axis3(gb[1, 1] , azimuth = π/8, # rotation of plot\n",
    "            elevation = 0.15, \n",
    "            aspect =(1,1.1,1), xtickwidth = 0,\n",
    "            xticks = ([0,152], [\"152\", \"0\"]), xticklabelpad = -2, \n",
    "            xlabeloffset = 5,\n",
    "            ylabeloffset = 25, zlabeloffset = 100,\n",
    "            xlabel=\"x [m]\", ylabel = \"y [m]\", zlabel = \"z [m]\",\n",
    "            yticks = ([500,1500], [\"500\", \"1500\"]),\n",
    "            zticks = ([-250, 0], [\"-250\",\"0\"]),)\n",
    "ax2.title = \"Tanh Initialization\"\n",
    "limits!((0,152), (0,2000), (-500,0))\n",
    "\n",
    "\n",
    "ax3 = Axis3(gb[1, 2] , azimuth = π/8, # rotation of plot\n",
    "            elevation = 0.15, \n",
    "            aspect =(1,1.1,1), xtickwidth = 0,\n",
    "            xticks = ([0,152], [\"152\", \"0\"]), xticklabelpad = -2, \n",
    "            xlabeloffset = 5,\n",
    "            ylabeloffset = 25, zlabeloffset = 100,\n",
    "            xlabel=\"x [m]\", ylabel = \"y [m]\", zlabel = \"z [m]\",\n",
    "            yticks = ([500,1500], [\"500\", \"1500\"]),\n",
    "            zticks = ([-250, 0], [\"-250\",\"0\"]),)\n",
    "\n",
    "            #zlabelrotation = 0)\n",
    "ax3.title = \"Gaussian Initialization\"\n",
    "limits!((0,152), (0,2000), (-500,0))\n",
    "#rowsize!(f.layout, 2, Auto(.75))\n",
    "\n",
    "#hidexdecorations!(ax2, grid = false)\n",
    "#hidezdecorations!(ax3, grid = false)\n"
   ]
  },
  {
   "cell_type": "code",
   "execution_count": 421,
   "id": "6447badf",
   "metadata": {},
   "outputs": [
    {
     "name": "stdout",
     "output_type": "stream",
     "text": [
      "Scene (1500px, 1000px):\n",
      "  0 Plots\n",
      "  3 Child Scenes:\n",
      "    ├ Scene (1500px, 1000px)\n",
      "    ├ Scene (1500px, 1000px)\n",
      "    └ Scene (1500px, 1000px)"
     ]
    }
   ],
   "source": [
    "surface!(ax2, -5:4:155, 0:4:2000, land_cut, shading = true, color=fill((:black, .7),100,100),)\n",
    "# toporgaphy yz cut lower and uppbounds\n",
    "lower = Point3f.(152, 0:4:2000, -500);\n",
    "upper = Point3f.(152, 0:4:2000, curvedslope.(0:4:2000));\n",
    "band!(ax2, lower, upper, color = (:black, 0.9), shading = true)\n",
    "ct = contour!(ax2, xx, 0:4:2000, zz, c2, levels = (-4:0.05:0), colormap = :thermal)\n",
    "\n",
    "surface!(ax3, -5:4:155, 0:4:2000, land_cut, shading = true, color=fill((:black, .7),100,100),)\n",
    "# toporgaphy yz cut lower and uppbounds\n",
    "lower = Point3f.(152, 0:4:2000, -500);\n",
    "upper = Point3f.(152, 0:4:2000, curvedslope.(0:4:2000));\n",
    "band!(ax3, lower, upper, color = (:black, 0.9), shading = true)\n",
    "#hidezdecorations!(ax3, grid = false)\n",
    "cg = contour!(ax3, xx, 0:4:2000, zz, c1, levels = (-4:0.05:0), colormap = :thermal)\n",
    "#colgap!(gb, -10)\n",
    "#rowsize!(f.layout, 2, Auto(.75))\n",
    "\n",
    "#Box(f[1, 1], color = (:red, 0.2), strokewidth = 0)\n",
    "#Box(f[2, 1], color = (:blue, 0.2), strokewidth = 0)\n",
    "#Box(gb[1, 1], color = (:gray, 0.2), strokewidth = 0)\n",
    "#Box(gb[1, 2], color = (:gray, 0.2), strokewidth = 0)\n",
    "#resize_to_layout!(f)\n",
    "show(f)"
   ]
  },
  {
   "cell_type": "code",
   "execution_count": 422,
   "id": "6830d5da",
   "metadata": {},
   "outputs": [
    {
     "name": "stdout",
     "output_type": "stream",
     "text": [
      "Scene (1500px, 1000px):\n",
      "  0 Plots\n",
      "  4 Child Scenes:\n",
      "    ├ Scene (1500px, 1000px)\n",
      "    ├ Scene (1500px, 1000px)\n",
      "    ├ Scene (1500px, 1000px)\n",
      "    └ Scene (1500px, 1000px)"
     ]
    }
   ],
   "source": [
    "cb = Colorbar(gb[1, 3], cg, ticks = (-4:1:0, [\"10⁻⁴\", \"10⁻³\", \"10⁻²\", \"10⁻¹\", \"10⁰\"] ),\n",
    "    label = \"Initial Tracer Distributions\", ,)\n",
    "\n",
    "# right = 0 : right side of cb pulls protrusion content inward with an additional padding of 0.\n",
    "cb.alignmode = Mixed(right = 0)\n",
    "ax3.alignmode = Mixed(left=-10)\n",
    "#rowsize!(f.layout, 2, Auto(.75))\n",
    "#rowgap!(f.layout, -100)\n",
    "rowgap!(f.layout, 10)\n",
    "rowsize!(f.layout, 2, Auto(.75))\n",
    "resize_to_layout!(f)\n",
    "show(f)"
   ]
  },
  {
   "cell_type": "code",
   "execution_count": 423,
   "id": "f5f1d1bc",
   "metadata": {},
   "outputs": [],
   "source": [
    "save(\"SimSetUp2.png\", f)"
   ]
  },
  {
   "cell_type": "code",
   "execution_count": null,
   "id": "38eaee75",
   "metadata": {},
   "outputs": [],
   "source": []
  }
 ],
 "metadata": {
  "kernelspec": {
   "display_name": "Julia 1.6.0",
   "language": "julia",
   "name": "julia-1.6"
  },
  "language_info": {
   "file_extension": ".jl",
   "mimetype": "application/julia",
   "name": "julia",
   "version": "1.6.0"
  }
 },
 "nbformat": 4,
 "nbformat_minor": 5
}
