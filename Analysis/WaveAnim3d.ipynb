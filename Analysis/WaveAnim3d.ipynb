{
 "cells": [
  {
   "cell_type": "code",
   "execution_count": 2,
   "id": "ff58d336",
   "metadata": {},
   "outputs": [],
   "source": [
    "using GLMakie\n",
    "using Measures\n",
    "using Oceananigans\n",
    "using Printf\n",
    "using JLD2"
   ]
  },
  {
   "cell_type": "code",
   "execution_count": 3,
   "id": "0f366984",
   "metadata": {},
   "outputs": [
    {
     "data": {
      "text/plain": [
       "curvedslope (generic function with 1 method)"
      ]
     },
     "execution_count": 3,
     "metadata": {},
     "output_type": "execute_result"
    }
   ],
   "source": [
    "setname = \"U250N100Lz100g100\"\n",
    "\n",
    "include(\"../parameters.jl\")\n",
    "\n",
    "pm = getproperty(SimParams(), Symbol(setname))\n",
    "\n",
    "pm = merge(pm, (; Tanθ = sqrt((pm.σ^2 - pm.f^2)/(pm.Ñ^2-pm.σ^2)),\n",
    "                Tanα = pm.γ * sqrt((pm.σ^2 - pm.f^2)/(pm.Ñ^2-pm.σ^2)),\n",
    "                nz = round(Int,pm.Lz/2),\n",
    "                m = -π/pm.Lz,\n",
    "                l = sqrt(((π/pm.Lz)^2 * (pm.f^2 - pm.σ^2)) / (pm.σ^2 - pm.Ñ^2)),\n",
    "                Tf = 2*π/pm.f, \n",
    "                Tσ = 2*π/pm.σ))\n",
    "\n",
    "const gausT_center = 895                                 # gaussian paramereters for curved \"corner\" of slope\n",
    "const gausT_width = 180\n",
    "const ySlopeSame = 1336.6                           # point where planar and curved corner math up the best\n",
    "\n",
    "ΔySlopeSame = 0\n",
    "\n",
    "\n",
    "@inline heaviside(X) = ifelse(X < 0, 0., 1.) # heaviside returns 1 if x >= 0\n",
    "# exponential gaussian for curved corner\n",
    "@inline expcurve(y, ystar, smo) = -pm.Lz + pm.Lz * exp( - (y - ystar)^2 / (2*smo^2))\n",
    "# planar slope line\n",
    "@inline linslope(y) = -pm.Tanα * y\n",
    "# combining the 2 with heaviside split at ySlopeSame\n",
    "@inline curvedslope(y) = @. linslope(y) + (-linslope(y) + expcurve(y, gausT_center-ΔySlopeSame, gausT_width)) * heaviside(y-ySlopeSame)\n"
   ]
  },
  {
   "cell_type": "code",
   "execution_count": 4,
   "id": "d05c3b6c",
   "metadata": {},
   "outputs": [
    {
     "data": {
      "text/plain": [
       "JLDFile /Users/vicwhit/Desktop/DyeU250sonly.jld2 (read-only)\n",
       " └─🔢 c2_timeseries"
      ]
     },
     "execution_count": 4,
     "metadata": {},
     "output_type": "execute_result"
    }
   ],
   "source": [
    "path_name = \"../../../../\"\n",
    "filepath = path_name * \"DyeU250sonly.jld2\"\n",
    "f2 = jldopen(filepath)"
   ]
  },
  {
   "cell_type": "code",
   "execution_count": 5,
   "id": "6fd0a19e",
   "metadata": {},
   "outputs": [],
   "source": [
    "xc = 2:4:150\n",
    "yc = 2:4:5498\n",
    "zc = -499:2:-1\n",
    "land = [curvedslope(y) for x in -5:4:155, y in 0:4:3500];"
   ]
  },
  {
   "cell_type": "code",
   "execution_count": 6,
   "id": "041a566d",
   "metadata": {
    "collapsed": true
   },
   "outputs": [
    {
     "name": "stderr",
     "output_type": "stream",
     "text": [
      "\u001b[33m\u001b[1m┌ \u001b[22m\u001b[39m\u001b[33m\u001b[1mWarning: \u001b[22m\u001b[39mread type ImmersedBoundaryGrid{Float64, Periodic, Bounded, Bounded, RectilinearGrid{Float64, Periodic, Bounded, Bounded, Float64, Float64, Float64, OffsetArrays.OffsetVector{Float64, StepRangeLen{Float64, Base.TwicePrecision{Float64}, Base.TwicePrecision{Float64}}}, OffsetArrays.OffsetVector{Float64, StepRangeLen{Float64, Base.TwicePrecision{Float64}, Base.TwicePrecision{Float64}}}, OffsetArrays.OffsetVector{Float64, StepRangeLen{Float64, Base.TwicePrecision{Float64}, Base.TwicePrecision{Float64}}}, CPU}, GridFittedBoundary{Field{Center, Center, Center, Nothing, RectilinearGrid{Float64, Periodic, Bounded, Bounded, Float64, Float64, Float64, OffsetArrays.OffsetVector{Float64, StepRangeLen{Float64, Base.TwicePrecision{Float64}, Base.TwicePrecision{Float64}}}, OffsetArrays.OffsetVector{Float64, StepRangeLen{Float64, Base.TwicePrecision{Float64}, Base.TwicePrecision{Float64}}}, OffsetArrays.OffsetVector{Float64, StepRangeLen{Float64, Base.TwicePrecision{Float64}, Base.TwicePrecision{Float64}}}, CPU}, Tuple{Colon, Colon, Colon}, OffsetArrays.OffsetArray{Bool, 3, Array{Bool, 3}}, Bool, FieldBoundaryConditions{BoundaryCondition{Oceananigans.BoundaryConditions.Periodic, Nothing}, BoundaryCondition{Oceananigans.BoundaryConditions.Periodic, Nothing}, BoundaryCondition{Oceananigans.BoundaryConditions.Flux, Nothing}, BoundaryCondition{Oceananigans.BoundaryConditions.Flux, Nothing}, BoundaryCondition{Oceananigans.BoundaryConditions.Flux, Nothing}, BoundaryCondition{Oceananigans.BoundaryConditions.Flux, Nothing}, BoundaryCondition{Oceananigans.BoundaryConditions.Flux, Nothing}}, Nothing, Oceananigans.Fields.FieldBoundaryBuffers{Nothing, Nothing, Nothing, Nothing}}}, CPU, Arch} where Arch is not a leaf type in workspace; reconstructing\n",
      "\u001b[33m\u001b[1m└ \u001b[22m\u001b[39m\u001b[90m@ JLD2 ~/.julia/packages/JLD2/ryhNR/src/data/reconstructing_datatypes.jl:263\u001b[39m\n",
      "\u001b[33m\u001b[1m┌ \u001b[22m\u001b[39m\u001b[33m\u001b[1mWarning: \u001b[22m\u001b[39mtype parameters for FieldTimeSeries{Center,Center,Center,InMemory,Tuple{UnitRange{Int64}, UnitRange{Int64}, UnitRange{Int64}},OffsetArrays.OffsetArray{Float64, 4, Array{Float64, 4}},JLD2.ReconstructedTypes.var\"##ImmersedBoundaryGrid{Float64, Periodic, Bounded, Bounded, RectilinearGrid{Float64, Periodic, Bounded, Bounded, Float64, Float64, Float64, OffsetArrays.OffsetVector{Float64, StepRangeLen{Float64, Base.TwicePrecision{Float64}, Base.TwicePrecision{Float64}}}, OffsetArrays.OffsetVector{Float64, StepRangeLen{Float64, Base.TwicePrecision{Float64}, Base.TwicePrecision{Float64}}}, OffsetArrays.OffsetVector{Float64, StepRangeLen{Float64, Base.TwicePrecision{Float64}, Base.TwicePrecision{Float64}}}, CPU}, GridFittedBoundary{Field{Center, Center, Center, Nothing, RectilinearGrid{Float64, Periodic, Bounded, Bounded, Float64, Float64, Float64, OffsetArrays.OffsetVector{Float64, StepRangeLen{Float64, Base.TwicePrecision{Float64}, Base.TwicePrecision{Float64}}}, OffsetArrays.OffsetVector{Float64, StepRangeLen{Float64, Base.TwicePrecision{Float64}, Base.TwicePrecision{Float64}}}, OffsetArrays.OffsetVector{Float64, StepRangeLen{Float64, Base.TwicePrecision{Float64}, Base.TwicePrecision{Float64}}}, CPU}, Tuple{Colon, Colon, Colon}, OffsetArrays.OffsetArray{Bool, 3, Array{Bool, 3}}, Bool, FieldBoundaryConditions{BoundaryCondition{Oceananigans.BoundaryConditions.Periodic, Nothing}, BoundaryCondition{Oceananigans.BoundaryConditions.Periodic, Nothing}, BoundaryCondition{Oceananigans.BoundaryConditions.Flux, Nothing}, BoundaryCondition{Oceananigans.BoundaryConditions.Flux, Nothing}, BoundaryCondition{Oceananigans.BoundaryConditions.Flux, Nothing}, BoundaryCondition{Oceananigans.BoundaryConditions.Flux, Nothing}, BoundaryCondition{Oceananigans.BoundaryConditions.Flux, Nothing}}, Nothing, Oceananigans.Fields.FieldBoundaryBuffers{Nothing, Nothing, Nothing, Nothing}}}, CPU, Arch} where Arch#257\",Float64,FieldBoundaryConditions{Nothing, Nothing, Nothing, Nothing, Nothing, Nothing, BoundaryCondition{Oceananigans.BoundaryConditions.Flux, Nothing}},Vector{Float64}} do not match type FieldTimeSeries in workspace; reconstructing\n",
      "\u001b[33m\u001b[1m└ \u001b[22m\u001b[39m\u001b[90m@ JLD2 ~/.julia/packages/JLD2/ryhNR/src/data/reconstructing_datatypes.jl:475\u001b[39m\n"
     ]
    }
   ],
   "source": [
    "c_timeseries = f2[\"c2_timeseries\"];"
   ]
  },
  {
   "cell_type": "code",
   "execution_count": 7,
   "id": "0a779952",
   "metadata": {},
   "outputs": [
    {
     "data": {
      "text/plain": [
       "GLMakie.Screen(...)"
      ]
     },
     "execution_count": 7,
     "metadata": {},
     "output_type": "execute_result"
    }
   ],
   "source": [
    "f = Figure(resolution = (1500, 550),fontsize=26) \n",
    "ga = f[1, 1] = GridLayout()\n",
    "\n",
    "ax1 = Axis3(ga[1, 1] , azimuth = π/8, # rotation of plot\n",
    "            elevation = 0.15, \n",
    "            aspect =(1,3,1), xtickwidth = 0,\n",
    "            xticks = ([2,150], [\"152\", \"0\"]), xticklabelpad = -25, \n",
    "            zticks = ([-500, -250, 0]),\n",
    "            yticks = ([1000, 2000, 3000]),\n",
    "            xlabeloffset = 10, ylabeloffset = 30, zlabeloffset = 100,\n",
    "            xlabel=\"x [m]\", ylabel = \"y [m]\", zlabel = \"z [m]\",)\n",
    "limits!((0,152), (0,3500), (-500,0))\n",
    "surface!(ax1, -5:4:155, yc, land, shading = true, color=fill((:black, .7),100,100),)\n",
    "\n",
    "# topography yz cut lower and uppbounds\n",
    "lower = Point3f.(152, yc, -500);\n",
    "upper = Point3f.(152, yc, curvedslope.(yc));\n",
    "band!(ax1, lower, upper, color = (:black, 0.9), shading = true)\n",
    "\n",
    "display(f)"
   ]
  },
  {
   "cell_type": "code",
   "execution_count": 8,
   "id": "587de4c0",
   "metadata": {},
   "outputs": [
    {
     "data": {
      "text/plain": [
       "Combined{Makie.contour, Tuple{StepRange{Int64, Int64}, StepRange{Int64, Int64}, StepRange{Int64, Int64}, Array{Float32, 3}}}"
      ]
     },
     "execution_count": 8,
     "metadata": {},
     "output_type": "execute_result"
    }
   ],
   "source": [
    "n = Observable(1)\n",
    "title = @lift \"Internal Wave Breaking, t = \" * string(round(c_timeseries.times[$n], digits=2)) * \", Tσ = \"*string(round(c_timeseries.times[$n]/pm.Tσ, digits=2))\n",
    "Label(ga[1, 1, Top()], title, valign = :bottom, font = :bold, padding = (0, 0, 5, 0))\n",
    "\n",
    "c = @lift log10.(clamp.(c_timeseries.data.parent[:,:,:,$n], 7e-5,1));\n",
    "\n",
    "cg = contour!(ax1, xc, yc, zc, c, levels = (-4:0.05:0), colormap = :thermal)"
   ]
  },
  {
   "cell_type": "code",
   "execution_count": 9,
   "id": "68854318",
   "metadata": {},
   "outputs": [
    {
     "data": {
      "text/plain": [
       "Mixed(GridLayoutBase.RectSides{Union{Nothing, Float32, GridLayoutBase.Protrusion}}(nothing, 0.0f0, nothing, nothing))"
      ]
     },
     "execution_count": 9,
     "metadata": {},
     "output_type": "execute_result"
    }
   ],
   "source": [
    "cb = Colorbar(ga[1, 2], limits = (-4,0), ticks = (-4:1:0, [\"10⁻⁴\", \"10⁻³\", \"10⁻²\", \"10⁻¹\", \"10⁰\"] ),\n",
    "    label = \"Tracer Concentration\", lowclip = :white, colormap = :thermal, size = 25)\n",
    "cb.alignmode = Mixed(right = 0)"
   ]
  },
  {
   "cell_type": "code",
   "execution_count": 10,
   "id": "931fcdfb",
   "metadata": {},
   "outputs": [
    {
     "name": "stdout",
     "output_type": "stream",
     "text": [
      "Plotting frame 161 of 161 \r"
     ]
    },
    {
     "data": {
      "text/plain": [
       "\"Plots/slope3dwaveseries_U250N100Lz100g100.mp4\""
      ]
     },
     "execution_count": 10,
     "metadata": {},
     "output_type": "execute_result"
    }
   ],
   "source": [
    "savename = \"slope3dwaveseries_\" * setname\n",
    "apath  =  \"Plots/\"\n",
    "frames = 1:length(c_timeseries.times)\n",
    "record(f, apath * savename * \".mp4\", frames, framerate=8) do j\n",
    "    msg = string(\"Plotting frame \", j, \" of \", frames[end])\n",
    "    print(msg * \" \\r\")\n",
    "    n[] = j\n",
    "end"
   ]
  },
  {
   "cell_type": "code",
   "execution_count": null,
   "id": "d998d8cd",
   "metadata": {},
   "outputs": [],
   "source": []
  }
 ],
 "metadata": {
  "kernelspec": {
   "display_name": "Julia 1.6.0",
   "language": "julia",
   "name": "julia-1.6"
  },
  "language_info": {
   "file_extension": ".jl",
   "mimetype": "application/julia",
   "name": "julia",
   "version": "1.6.0"
  }
 },
 "nbformat": 4,
 "nbformat_minor": 5
}
