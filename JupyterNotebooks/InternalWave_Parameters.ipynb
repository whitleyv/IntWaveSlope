{
 "cells": [
  {
   "cell_type": "markdown",
   "id": "1f769144",
   "metadata": {},
   "source": [
    "# Relevant Parameters to Internal Waves Breaking"
   ]
  },
  {
   "cell_type": "markdown",
   "id": "657ed0b9",
   "metadata": {},
   "source": [
    "## Initial parameters specified by model:\n",
    "\n",
    "$U_0$: Velocity Amplitude of incoming internal wave\n",
    "\n",
    "$\\sigma$: Internal wave frequency\n",
    "\n",
    "$f$: Inertial frequency\n",
    "\n",
    "Beams are prone to parametric subharmonic instability (PSI) if $\\sigma>2f$ or $\\sigma/f> 2$. In most our initial simulations, $\\sigma/f \\approx 2.2$ ... so I guess PSI is possible?\n",
    "\n",
    "$N$: Buoyancy frequency\n",
    "\n",
    "$\\sigma/N$ is typically much less than 1 for tidally forced waves. Tides such as the M2 tide have a period of 12.5 hours, while the buoyancy time period is usually between 15 min and an hour. In most of our intial simulations, $\\sigma/N \\approx 0.2$.\n",
    "\n",
    "$l,\\, h$: Length and height of topographic slope\n",
    "\n",
    "$L_y, \\, L_z$: Length and depth of domain\n",
    "\n",
    "$\\theta$: Angle of the topographic slope\n",
    "\n",
    "$\\alpha$: Angle of wave group velocity with respect to the horizontal\n",
    "\n",
    "$\\tan(\\alpha) = \\sqrt{\\frac{\\omega^2-f^2}{N^2-\\omega^2}}$: The slope of the wave\n",
    "\n",
    "$\\tan(\\theta) = \\frac{h}{l}$: the slope of the stopography\n"
   ]
  },
  {
   "cell_type": "markdown",
   "id": "77f50141",
   "metadata": {},
   "source": [
    "## Non-dimensional numbers as a consequence:\n",
    "\n",
    "$Ex = \\frac{U_0}{\\sigma l}$, Excursion Number: Measure of nonlinearity, or the horizontal distance a particle will be advected compared to the length of the slope.\n",
    "\n",
    "$Fr_h = \\frac{U_0}{N h}$, Topographic Froude Number: Measure of how much fluid can go over the obstacle in a stratified fluid \n",
    "\n",
    "$\\delta = \\frac{U_0}{N}$: Vertical distance a particle can travel before running out of kinetic energy\n",
    "\n",
    "$\\gamma = \\frac{\\tan(\\theta)}{\\tan(\\alpha)} = \\frac{h}{l\\tan(\\alpha)} = \\frac{s}{r}$, Steepness parameter/Criticality (for planar slopes): If $s/r < 1$ (subcritical), waves are reflected upslope into waves with shorter wave length and smaller group velocity. For $s/r > 1$ (supercritical), waves are reflected back down towards deeper water. As $s/r \\rightarrow 1$ (critical) the wave length and group velocity go to zero (reflected angle parallel to slope) and the energy density and wave aplitude become infinite. This makes them prone to breaking.\n"
   ]
  },
  {
   "cell_type": "code",
   "execution_count": null,
   "id": "e30821f0",
   "metadata": {},
   "outputs": [],
   "source": []
  }
 ],
 "metadata": {
  "kernelspec": {
   "display_name": "Julia 1.6.0",
   "language": "julia",
   "name": "julia-1.6"
  },
  "language_info": {
   "file_extension": ".jl",
   "mimetype": "application/julia",
   "name": "julia",
   "version": "1.6.0"
  }
 },
 "nbformat": 4,
 "nbformat_minor": 5
}
